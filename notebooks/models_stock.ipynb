{
  "nbformat": 4,
  "nbformat_minor": 0,
  "metadata": {
    "colab": {
      "provenance": [],
      "authorship_tag": "ABX9TyOHLlPT+tCNVw8ShxZT0sZD",
      "include_colab_link": true
    },
    "kernelspec": {
      "name": "python3",
      "display_name": "Python 3"
    },
    "language_info": {
      "name": "python"
    }
  },
  "cells": [
    {
      "cell_type": "markdown",
      "metadata": {
        "id": "view-in-github",
        "colab_type": "text"
      },
      "source": [
        "<a href=\"https://colab.research.google.com/github/amannain122/stock_price_analysis/blob/main/notebooks/models_stock.ipynb\" target=\"_parent\"><img src=\"https://colab.research.google.com/assets/colab-badge.svg\" alt=\"Open In Colab\"/></a>"
      ]
    },
    {
      "cell_type": "code",
      "source": [
        "import pandas as pd\n",
        "import numpy as np\n",
        "import matplotlib.pyplot as plt\n",
        "import seaborn as sns\n",
        "from sklearn.model_selection import train_test_split\n",
        "from sklearn.metrics import mean_squared_error, r2_score\n",
        "from sklearn.model_selection import cross_val_score, RandomizedSearchCV"
      ],
      "metadata": {
        "id": "j9f0Uk8o19o_"
      },
      "execution_count": 84,
      "outputs": []
    },
    {
      "cell_type": "code",
      "source": [
        "sp500 = pd.read_csv(\"S&P_500_data_cleaned.csv\", index_col=0)\n",
        "sp500.head()"
      ],
      "metadata": {
        "colab": {
          "base_uri": "https://localhost:8080/",
          "height": 237
        },
        "id": "Kimd4rfhSnPE",
        "outputId": "22093586-5e7a-4bd0-8a5d-a4ada946a6fe"
      },
      "execution_count": 2,
      "outputs": [
        {
          "output_type": "execute_result",
          "data": {
            "text/plain": [
              "                 Open       High        Low      Close  Adj Close    50_MA  \\\n",
              "Date                                                                         \n",
              "1928-03-13  17.920000  17.920000  17.920000  17.920000  17.920000  17.4730   \n",
              "1928-03-14  17.930000  17.930000  17.930000  17.930000  17.930000  17.4784   \n",
              "1928-03-15  18.070000  18.070000  18.070000  18.070000  18.070000  17.4846   \n",
              "1928-03-16  18.260000  18.260000  18.260000  18.260000  18.260000  17.4954   \n",
              "1928-03-19  18.360001  18.360001  18.360001  18.360001  18.360001  17.5116   \n",
              "\n",
              "            Open_Target  \n",
              "Date                     \n",
              "1928-03-13    17.930000  \n",
              "1928-03-14    18.070000  \n",
              "1928-03-15    18.260000  \n",
              "1928-03-16    18.360001  \n",
              "1928-03-19    18.459999  "
            ],
            "text/html": [
              "\n",
              "  <div id=\"df-1e2c9837-adab-467d-8671-f780798f7bc4\" class=\"colab-df-container\">\n",
              "    <div>\n",
              "<style scoped>\n",
              "    .dataframe tbody tr th:only-of-type {\n",
              "        vertical-align: middle;\n",
              "    }\n",
              "\n",
              "    .dataframe tbody tr th {\n",
              "        vertical-align: top;\n",
              "    }\n",
              "\n",
              "    .dataframe thead th {\n",
              "        text-align: right;\n",
              "    }\n",
              "</style>\n",
              "<table border=\"1\" class=\"dataframe\">\n",
              "  <thead>\n",
              "    <tr style=\"text-align: right;\">\n",
              "      <th></th>\n",
              "      <th>Open</th>\n",
              "      <th>High</th>\n",
              "      <th>Low</th>\n",
              "      <th>Close</th>\n",
              "      <th>Adj Close</th>\n",
              "      <th>50_MA</th>\n",
              "      <th>Open_Target</th>\n",
              "    </tr>\n",
              "    <tr>\n",
              "      <th>Date</th>\n",
              "      <th></th>\n",
              "      <th></th>\n",
              "      <th></th>\n",
              "      <th></th>\n",
              "      <th></th>\n",
              "      <th></th>\n",
              "      <th></th>\n",
              "    </tr>\n",
              "  </thead>\n",
              "  <tbody>\n",
              "    <tr>\n",
              "      <th>1928-03-13</th>\n",
              "      <td>17.920000</td>\n",
              "      <td>17.920000</td>\n",
              "      <td>17.920000</td>\n",
              "      <td>17.920000</td>\n",
              "      <td>17.920000</td>\n",
              "      <td>17.4730</td>\n",
              "      <td>17.930000</td>\n",
              "    </tr>\n",
              "    <tr>\n",
              "      <th>1928-03-14</th>\n",
              "      <td>17.930000</td>\n",
              "      <td>17.930000</td>\n",
              "      <td>17.930000</td>\n",
              "      <td>17.930000</td>\n",
              "      <td>17.930000</td>\n",
              "      <td>17.4784</td>\n",
              "      <td>18.070000</td>\n",
              "    </tr>\n",
              "    <tr>\n",
              "      <th>1928-03-15</th>\n",
              "      <td>18.070000</td>\n",
              "      <td>18.070000</td>\n",
              "      <td>18.070000</td>\n",
              "      <td>18.070000</td>\n",
              "      <td>18.070000</td>\n",
              "      <td>17.4846</td>\n",
              "      <td>18.260000</td>\n",
              "    </tr>\n",
              "    <tr>\n",
              "      <th>1928-03-16</th>\n",
              "      <td>18.260000</td>\n",
              "      <td>18.260000</td>\n",
              "      <td>18.260000</td>\n",
              "      <td>18.260000</td>\n",
              "      <td>18.260000</td>\n",
              "      <td>17.4954</td>\n",
              "      <td>18.360001</td>\n",
              "    </tr>\n",
              "    <tr>\n",
              "      <th>1928-03-19</th>\n",
              "      <td>18.360001</td>\n",
              "      <td>18.360001</td>\n",
              "      <td>18.360001</td>\n",
              "      <td>18.360001</td>\n",
              "      <td>18.360001</td>\n",
              "      <td>17.5116</td>\n",
              "      <td>18.459999</td>\n",
              "    </tr>\n",
              "  </tbody>\n",
              "</table>\n",
              "</div>\n",
              "    <div class=\"colab-df-buttons\">\n",
              "\n",
              "  <div class=\"colab-df-container\">\n",
              "    <button class=\"colab-df-convert\" onclick=\"convertToInteractive('df-1e2c9837-adab-467d-8671-f780798f7bc4')\"\n",
              "            title=\"Convert this dataframe to an interactive table.\"\n",
              "            style=\"display:none;\">\n",
              "\n",
              "  <svg xmlns=\"http://www.w3.org/2000/svg\" height=\"24px\" viewBox=\"0 -960 960 960\">\n",
              "    <path d=\"M120-120v-720h720v720H120Zm60-500h600v-160H180v160Zm220 220h160v-160H400v160Zm0 220h160v-160H400v160ZM180-400h160v-160H180v160Zm440 0h160v-160H620v160ZM180-180h160v-160H180v160Zm440 0h160v-160H620v160Z\"/>\n",
              "  </svg>\n",
              "    </button>\n",
              "\n",
              "  <style>\n",
              "    .colab-df-container {\n",
              "      display:flex;\n",
              "      gap: 12px;\n",
              "    }\n",
              "\n",
              "    .colab-df-convert {\n",
              "      background-color: #E8F0FE;\n",
              "      border: none;\n",
              "      border-radius: 50%;\n",
              "      cursor: pointer;\n",
              "      display: none;\n",
              "      fill: #1967D2;\n",
              "      height: 32px;\n",
              "      padding: 0 0 0 0;\n",
              "      width: 32px;\n",
              "    }\n",
              "\n",
              "    .colab-df-convert:hover {\n",
              "      background-color: #E2EBFA;\n",
              "      box-shadow: 0px 1px 2px rgba(60, 64, 67, 0.3), 0px 1px 3px 1px rgba(60, 64, 67, 0.15);\n",
              "      fill: #174EA6;\n",
              "    }\n",
              "\n",
              "    .colab-df-buttons div {\n",
              "      margin-bottom: 4px;\n",
              "    }\n",
              "\n",
              "    [theme=dark] .colab-df-convert {\n",
              "      background-color: #3B4455;\n",
              "      fill: #D2E3FC;\n",
              "    }\n",
              "\n",
              "    [theme=dark] .colab-df-convert:hover {\n",
              "      background-color: #434B5C;\n",
              "      box-shadow: 0px 1px 3px 1px rgba(0, 0, 0, 0.15);\n",
              "      filter: drop-shadow(0px 1px 2px rgba(0, 0, 0, 0.3));\n",
              "      fill: #FFFFFF;\n",
              "    }\n",
              "  </style>\n",
              "\n",
              "    <script>\n",
              "      const buttonEl =\n",
              "        document.querySelector('#df-1e2c9837-adab-467d-8671-f780798f7bc4 button.colab-df-convert');\n",
              "      buttonEl.style.display =\n",
              "        google.colab.kernel.accessAllowed ? 'block' : 'none';\n",
              "\n",
              "      async function convertToInteractive(key) {\n",
              "        const element = document.querySelector('#df-1e2c9837-adab-467d-8671-f780798f7bc4');\n",
              "        const dataTable =\n",
              "          await google.colab.kernel.invokeFunction('convertToInteractive',\n",
              "                                                    [key], {});\n",
              "        if (!dataTable) return;\n",
              "\n",
              "        const docLinkHtml = 'Like what you see? Visit the ' +\n",
              "          '<a target=\"_blank\" href=https://colab.research.google.com/notebooks/data_table.ipynb>data table notebook</a>'\n",
              "          + ' to learn more about interactive tables.';\n",
              "        element.innerHTML = '';\n",
              "        dataTable['output_type'] = 'display_data';\n",
              "        await google.colab.output.renderOutput(dataTable, element);\n",
              "        const docLink = document.createElement('div');\n",
              "        docLink.innerHTML = docLinkHtml;\n",
              "        element.appendChild(docLink);\n",
              "      }\n",
              "    </script>\n",
              "  </div>\n",
              "\n",
              "\n",
              "<div id=\"df-a9afe155-4fc1-4c4a-9dab-b6112c54d028\">\n",
              "  <button class=\"colab-df-quickchart\" onclick=\"quickchart('df-a9afe155-4fc1-4c4a-9dab-b6112c54d028')\"\n",
              "            title=\"Suggest charts\"\n",
              "            style=\"display:none;\">\n",
              "\n",
              "<svg xmlns=\"http://www.w3.org/2000/svg\" height=\"24px\"viewBox=\"0 0 24 24\"\n",
              "     width=\"24px\">\n",
              "    <g>\n",
              "        <path d=\"M19 3H5c-1.1 0-2 .9-2 2v14c0 1.1.9 2 2 2h14c1.1 0 2-.9 2-2V5c0-1.1-.9-2-2-2zM9 17H7v-7h2v7zm4 0h-2V7h2v10zm4 0h-2v-4h2v4z\"/>\n",
              "    </g>\n",
              "</svg>\n",
              "  </button>\n",
              "\n",
              "<style>\n",
              "  .colab-df-quickchart {\n",
              "      --bg-color: #E8F0FE;\n",
              "      --fill-color: #1967D2;\n",
              "      --hover-bg-color: #E2EBFA;\n",
              "      --hover-fill-color: #174EA6;\n",
              "      --disabled-fill-color: #AAA;\n",
              "      --disabled-bg-color: #DDD;\n",
              "  }\n",
              "\n",
              "  [theme=dark] .colab-df-quickchart {\n",
              "      --bg-color: #3B4455;\n",
              "      --fill-color: #D2E3FC;\n",
              "      --hover-bg-color: #434B5C;\n",
              "      --hover-fill-color: #FFFFFF;\n",
              "      --disabled-bg-color: #3B4455;\n",
              "      --disabled-fill-color: #666;\n",
              "  }\n",
              "\n",
              "  .colab-df-quickchart {\n",
              "    background-color: var(--bg-color);\n",
              "    border: none;\n",
              "    border-radius: 50%;\n",
              "    cursor: pointer;\n",
              "    display: none;\n",
              "    fill: var(--fill-color);\n",
              "    height: 32px;\n",
              "    padding: 0;\n",
              "    width: 32px;\n",
              "  }\n",
              "\n",
              "  .colab-df-quickchart:hover {\n",
              "    background-color: var(--hover-bg-color);\n",
              "    box-shadow: 0 1px 2px rgba(60, 64, 67, 0.3), 0 1px 3px 1px rgba(60, 64, 67, 0.15);\n",
              "    fill: var(--button-hover-fill-color);\n",
              "  }\n",
              "\n",
              "  .colab-df-quickchart-complete:disabled,\n",
              "  .colab-df-quickchart-complete:disabled:hover {\n",
              "    background-color: var(--disabled-bg-color);\n",
              "    fill: var(--disabled-fill-color);\n",
              "    box-shadow: none;\n",
              "  }\n",
              "\n",
              "  .colab-df-spinner {\n",
              "    border: 2px solid var(--fill-color);\n",
              "    border-color: transparent;\n",
              "    border-bottom-color: var(--fill-color);\n",
              "    animation:\n",
              "      spin 1s steps(1) infinite;\n",
              "  }\n",
              "\n",
              "  @keyframes spin {\n",
              "    0% {\n",
              "      border-color: transparent;\n",
              "      border-bottom-color: var(--fill-color);\n",
              "      border-left-color: var(--fill-color);\n",
              "    }\n",
              "    20% {\n",
              "      border-color: transparent;\n",
              "      border-left-color: var(--fill-color);\n",
              "      border-top-color: var(--fill-color);\n",
              "    }\n",
              "    30% {\n",
              "      border-color: transparent;\n",
              "      border-left-color: var(--fill-color);\n",
              "      border-top-color: var(--fill-color);\n",
              "      border-right-color: var(--fill-color);\n",
              "    }\n",
              "    40% {\n",
              "      border-color: transparent;\n",
              "      border-right-color: var(--fill-color);\n",
              "      border-top-color: var(--fill-color);\n",
              "    }\n",
              "    60% {\n",
              "      border-color: transparent;\n",
              "      border-right-color: var(--fill-color);\n",
              "    }\n",
              "    80% {\n",
              "      border-color: transparent;\n",
              "      border-right-color: var(--fill-color);\n",
              "      border-bottom-color: var(--fill-color);\n",
              "    }\n",
              "    90% {\n",
              "      border-color: transparent;\n",
              "      border-bottom-color: var(--fill-color);\n",
              "    }\n",
              "  }\n",
              "</style>\n",
              "\n",
              "  <script>\n",
              "    async function quickchart(key) {\n",
              "      const quickchartButtonEl =\n",
              "        document.querySelector('#' + key + ' button');\n",
              "      quickchartButtonEl.disabled = true;  // To prevent multiple clicks.\n",
              "      quickchartButtonEl.classList.add('colab-df-spinner');\n",
              "      try {\n",
              "        const charts = await google.colab.kernel.invokeFunction(\n",
              "            'suggestCharts', [key], {});\n",
              "      } catch (error) {\n",
              "        console.error('Error during call to suggestCharts:', error);\n",
              "      }\n",
              "      quickchartButtonEl.classList.remove('colab-df-spinner');\n",
              "      quickchartButtonEl.classList.add('colab-df-quickchart-complete');\n",
              "    }\n",
              "    (() => {\n",
              "      let quickchartButtonEl =\n",
              "        document.querySelector('#df-a9afe155-4fc1-4c4a-9dab-b6112c54d028 button');\n",
              "      quickchartButtonEl.style.display =\n",
              "        google.colab.kernel.accessAllowed ? 'block' : 'none';\n",
              "    })();\n",
              "  </script>\n",
              "</div>\n",
              "\n",
              "    </div>\n",
              "  </div>\n"
            ],
            "application/vnd.google.colaboratory.intrinsic+json": {
              "type": "dataframe",
              "variable_name": "sp500",
              "summary": "{\n  \"name\": \"sp500\",\n  \"rows\": 24283,\n  \"fields\": [\n    {\n      \"column\": \"Date\",\n      \"properties\": {\n        \"dtype\": \"object\",\n        \"num_unique_values\": 24283,\n        \"samples\": [\n          \"1991-08-12\",\n          \"1956-06-25\",\n          \"1981-01-27\"\n        ],\n        \"semantic_type\": \"\",\n        \"description\": \"\"\n      }\n    },\n    {\n      \"column\": \"Open\",\n      \"properties\": {\n        \"dtype\": \"number\",\n        \"std\": 1078.6325111201588,\n        \"min\": 0.0,\n        \"max\": 5976.759765625,\n        \"num_unique_values\": 13698,\n        \"samples\": [\n          209.80999755859372,\n          348.5299987792969,\n          18.07999992370605\n        ],\n        \"semantic_type\": \"\",\n        \"description\": \"\"\n      }\n    },\n    {\n      \"column\": \"High\",\n      \"properties\": {\n        \"dtype\": \"number\",\n        \"std\": 1073.4790835320262,\n        \"min\": 4.400000095367432,\n        \"max\": 6012.4501953125,\n        \"num_unique_values\": 16811,\n        \"samples\": [\n          19.899999618530277,\n          21.93000030517578,\n          1242.47998046875\n        ],\n        \"semantic_type\": \"\",\n        \"description\": \"\"\n      }\n    },\n    {\n      \"column\": \"Low\",\n      \"properties\": {\n        \"dtype\": \"number\",\n        \"std\": 1061.5337668738048,\n        \"min\": 4.400000095367432,\n        \"max\": 5976.759765625,\n        \"num_unique_values\": 16808,\n        \"samples\": [\n          58.470001220703125,\n          92.73999786376952,\n          322.1000061035156\n        ],\n        \"semantic_type\": \"\",\n        \"description\": \"\"\n      }\n    },\n    {\n      \"column\": \"Close\",\n      \"properties\": {\n        \"dtype\": \"number\",\n        \"std\": 1067.8897215878726,\n        \"min\": 4.400000095367432,\n        \"max\": 5995.5400390625,\n        \"num_unique_values\": 16809,\n        \"samples\": [\n          58.470001220703125,\n          96.5199966430664,\n          333.75\n        ],\n        \"semantic_type\": \"\",\n        \"description\": \"\"\n      }\n    },\n    {\n      \"column\": \"Adj Close\",\n      \"properties\": {\n        \"dtype\": \"number\",\n        \"std\": 1067.8897215878726,\n        \"min\": 4.400000095367432,\n        \"max\": 5995.5400390625,\n        \"num_unique_values\": 16809,\n        \"samples\": [\n          58.470001220703125,\n          96.5199966430664,\n          333.75\n        ],\n        \"semantic_type\": \"\",\n        \"description\": \"\"\n      }\n    },\n    {\n      \"column\": \"50_MA\",\n      \"properties\": {\n        \"dtype\": \"number\",\n        \"std\": 1054.9255164448878,\n        \"min\": 4.88039999961853,\n        \"max\": 5728.377763671875,\n        \"num_unique_values\": 24171,\n        \"samples\": [\n          1660.5841967773438,\n          15.757599983215332,\n          94.78940017700197\n        ],\n        \"semantic_type\": \"\",\n        \"description\": \"\"\n      }\n    },\n    {\n      \"column\": \"Open_Target\",\n      \"properties\": {\n        \"dtype\": \"number\",\n        \"std\": 1079.1770423708158,\n        \"min\": 0.0,\n        \"max\": 6008.85986328125,\n        \"num_unique_values\": 13699,\n        \"samples\": [\n          1268.1199951171875,\n          406.510009765625,\n          18.07999992370605\n        ],\n        \"semantic_type\": \"\",\n        \"description\": \"\"\n      }\n    }\n  ]\n}"
            }
          },
          "metadata": {},
          "execution_count": 2
        }
      ]
    },
    {
      "cell_type": "code",
      "source": [
        "latest_data = pd.read_csv(\"S&P_500_data_last_row.csv\", index_col = 0)\n",
        "latest_data.head()"
      ],
      "metadata": {
        "colab": {
          "base_uri": "https://localhost:8080/",
          "height": 112
        },
        "id": "CqXLmSsSWkqy",
        "outputId": "55f88112-66a7-4eea-a85c-1f200ac8dc6d"
      },
      "execution_count": 9,
      "outputs": [
        {
          "output_type": "execute_result",
          "data": {
            "text/plain": [
              "                   Open         High          Low        Close    Adj Close  \\\n",
              "Date                                                                          \n",
              "2024-11-11  6008.859863  6017.310059  5986.689941  6001.350098  6001.350098   \n",
              "\n",
              "                  50_MA  Open_Target  \n",
              "Date                                  \n",
              "2024-11-11  5735.436768          NaN  "
            ],
            "text/html": [
              "\n",
              "  <div id=\"df-aa070552-f0aa-47b1-ad1f-e98836e3f649\" class=\"colab-df-container\">\n",
              "    <div>\n",
              "<style scoped>\n",
              "    .dataframe tbody tr th:only-of-type {\n",
              "        vertical-align: middle;\n",
              "    }\n",
              "\n",
              "    .dataframe tbody tr th {\n",
              "        vertical-align: top;\n",
              "    }\n",
              "\n",
              "    .dataframe thead th {\n",
              "        text-align: right;\n",
              "    }\n",
              "</style>\n",
              "<table border=\"1\" class=\"dataframe\">\n",
              "  <thead>\n",
              "    <tr style=\"text-align: right;\">\n",
              "      <th></th>\n",
              "      <th>Open</th>\n",
              "      <th>High</th>\n",
              "      <th>Low</th>\n",
              "      <th>Close</th>\n",
              "      <th>Adj Close</th>\n",
              "      <th>50_MA</th>\n",
              "      <th>Open_Target</th>\n",
              "    </tr>\n",
              "    <tr>\n",
              "      <th>Date</th>\n",
              "      <th></th>\n",
              "      <th></th>\n",
              "      <th></th>\n",
              "      <th></th>\n",
              "      <th></th>\n",
              "      <th></th>\n",
              "      <th></th>\n",
              "    </tr>\n",
              "  </thead>\n",
              "  <tbody>\n",
              "    <tr>\n",
              "      <th>2024-11-11</th>\n",
              "      <td>6008.859863</td>\n",
              "      <td>6017.310059</td>\n",
              "      <td>5986.689941</td>\n",
              "      <td>6001.350098</td>\n",
              "      <td>6001.350098</td>\n",
              "      <td>5735.436768</td>\n",
              "      <td>NaN</td>\n",
              "    </tr>\n",
              "  </tbody>\n",
              "</table>\n",
              "</div>\n",
              "    <div class=\"colab-df-buttons\">\n",
              "\n",
              "  <div class=\"colab-df-container\">\n",
              "    <button class=\"colab-df-convert\" onclick=\"convertToInteractive('df-aa070552-f0aa-47b1-ad1f-e98836e3f649')\"\n",
              "            title=\"Convert this dataframe to an interactive table.\"\n",
              "            style=\"display:none;\">\n",
              "\n",
              "  <svg xmlns=\"http://www.w3.org/2000/svg\" height=\"24px\" viewBox=\"0 -960 960 960\">\n",
              "    <path d=\"M120-120v-720h720v720H120Zm60-500h600v-160H180v160Zm220 220h160v-160H400v160Zm0 220h160v-160H400v160ZM180-400h160v-160H180v160Zm440 0h160v-160H620v160ZM180-180h160v-160H180v160Zm440 0h160v-160H620v160Z\"/>\n",
              "  </svg>\n",
              "    </button>\n",
              "\n",
              "  <style>\n",
              "    .colab-df-container {\n",
              "      display:flex;\n",
              "      gap: 12px;\n",
              "    }\n",
              "\n",
              "    .colab-df-convert {\n",
              "      background-color: #E8F0FE;\n",
              "      border: none;\n",
              "      border-radius: 50%;\n",
              "      cursor: pointer;\n",
              "      display: none;\n",
              "      fill: #1967D2;\n",
              "      height: 32px;\n",
              "      padding: 0 0 0 0;\n",
              "      width: 32px;\n",
              "    }\n",
              "\n",
              "    .colab-df-convert:hover {\n",
              "      background-color: #E2EBFA;\n",
              "      box-shadow: 0px 1px 2px rgba(60, 64, 67, 0.3), 0px 1px 3px 1px rgba(60, 64, 67, 0.15);\n",
              "      fill: #174EA6;\n",
              "    }\n",
              "\n",
              "    .colab-df-buttons div {\n",
              "      margin-bottom: 4px;\n",
              "    }\n",
              "\n",
              "    [theme=dark] .colab-df-convert {\n",
              "      background-color: #3B4455;\n",
              "      fill: #D2E3FC;\n",
              "    }\n",
              "\n",
              "    [theme=dark] .colab-df-convert:hover {\n",
              "      background-color: #434B5C;\n",
              "      box-shadow: 0px 1px 3px 1px rgba(0, 0, 0, 0.15);\n",
              "      filter: drop-shadow(0px 1px 2px rgba(0, 0, 0, 0.3));\n",
              "      fill: #FFFFFF;\n",
              "    }\n",
              "  </style>\n",
              "\n",
              "    <script>\n",
              "      const buttonEl =\n",
              "        document.querySelector('#df-aa070552-f0aa-47b1-ad1f-e98836e3f649 button.colab-df-convert');\n",
              "      buttonEl.style.display =\n",
              "        google.colab.kernel.accessAllowed ? 'block' : 'none';\n",
              "\n",
              "      async function convertToInteractive(key) {\n",
              "        const element = document.querySelector('#df-aa070552-f0aa-47b1-ad1f-e98836e3f649');\n",
              "        const dataTable =\n",
              "          await google.colab.kernel.invokeFunction('convertToInteractive',\n",
              "                                                    [key], {});\n",
              "        if (!dataTable) return;\n",
              "\n",
              "        const docLinkHtml = 'Like what you see? Visit the ' +\n",
              "          '<a target=\"_blank\" href=https://colab.research.google.com/notebooks/data_table.ipynb>data table notebook</a>'\n",
              "          + ' to learn more about interactive tables.';\n",
              "        element.innerHTML = '';\n",
              "        dataTable['output_type'] = 'display_data';\n",
              "        await google.colab.output.renderOutput(dataTable, element);\n",
              "        const docLink = document.createElement('div');\n",
              "        docLink.innerHTML = docLinkHtml;\n",
              "        element.appendChild(docLink);\n",
              "      }\n",
              "    </script>\n",
              "  </div>\n",
              "\n",
              "\n",
              "    </div>\n",
              "  </div>\n"
            ],
            "application/vnd.google.colaboratory.intrinsic+json": {
              "type": "dataframe",
              "variable_name": "latest_data",
              "summary": "{\n  \"name\": \"latest_data\",\n  \"rows\": 1,\n  \"fields\": [\n    {\n      \"column\": \"Date\",\n      \"properties\": {\n        \"dtype\": \"object\",\n        \"num_unique_values\": 1,\n        \"samples\": [\n          \"2024-11-11\"\n        ],\n        \"semantic_type\": \"\",\n        \"description\": \"\"\n      }\n    },\n    {\n      \"column\": \"Open\",\n      \"properties\": {\n        \"dtype\": \"number\",\n        \"std\": null,\n        \"min\": 6008.85986328125,\n        \"max\": 6008.85986328125,\n        \"num_unique_values\": 1,\n        \"samples\": [\n          6008.85986328125\n        ],\n        \"semantic_type\": \"\",\n        \"description\": \"\"\n      }\n    },\n    {\n      \"column\": \"High\",\n      \"properties\": {\n        \"dtype\": \"number\",\n        \"std\": null,\n        \"min\": 6017.31005859375,\n        \"max\": 6017.31005859375,\n        \"num_unique_values\": 1,\n        \"samples\": [\n          6017.31005859375\n        ],\n        \"semantic_type\": \"\",\n        \"description\": \"\"\n      }\n    },\n    {\n      \"column\": \"Low\",\n      \"properties\": {\n        \"dtype\": \"number\",\n        \"std\": null,\n        \"min\": 5986.68994140625,\n        \"max\": 5986.68994140625,\n        \"num_unique_values\": 1,\n        \"samples\": [\n          5986.68994140625\n        ],\n        \"semantic_type\": \"\",\n        \"description\": \"\"\n      }\n    },\n    {\n      \"column\": \"Close\",\n      \"properties\": {\n        \"dtype\": \"number\",\n        \"std\": null,\n        \"min\": 6001.35009765625,\n        \"max\": 6001.35009765625,\n        \"num_unique_values\": 1,\n        \"samples\": [\n          6001.35009765625\n        ],\n        \"semantic_type\": \"\",\n        \"description\": \"\"\n      }\n    },\n    {\n      \"column\": \"Adj Close\",\n      \"properties\": {\n        \"dtype\": \"number\",\n        \"std\": null,\n        \"min\": 6001.35009765625,\n        \"max\": 6001.35009765625,\n        \"num_unique_values\": 1,\n        \"samples\": [\n          6001.35009765625\n        ],\n        \"semantic_type\": \"\",\n        \"description\": \"\"\n      }\n    },\n    {\n      \"column\": \"50_MA\",\n      \"properties\": {\n        \"dtype\": \"number\",\n        \"std\": null,\n        \"min\": 5735.436767578125,\n        \"max\": 5735.436767578125,\n        \"num_unique_values\": 1,\n        \"samples\": [\n          5735.436767578125\n        ],\n        \"semantic_type\": \"\",\n        \"description\": \"\"\n      }\n    },\n    {\n      \"column\": \"Open_Target\",\n      \"properties\": {\n        \"dtype\": \"number\",\n        \"std\": null,\n        \"min\": null,\n        \"max\": null,\n        \"num_unique_values\": 0,\n        \"samples\": [],\n        \"semantic_type\": \"\",\n        \"description\": \"\"\n      }\n    }\n  ]\n}"
            }
          },
          "metadata": {},
          "execution_count": 9
        }
      ]
    },
    {
      "cell_type": "code",
      "source": [
        "latest_data = latest_data.drop(columns=[\"Open_Target\"])"
      ],
      "metadata": {
        "id": "6tua4PoXi95N"
      },
      "execution_count": null,
      "outputs": []
    },
    {
      "cell_type": "code",
      "source": [
        "X = sp500.drop(columns=[\"Open_Target\"])\n",
        "y = sp500[\"Open_Target\"]"
      ],
      "metadata": {
        "id": "_lxjtKDWS0SL"
      },
      "execution_count": 3,
      "outputs": []
    },
    {
      "cell_type": "code",
      "source": [
        "X_train, X_test, y_train, y_test = train_test_split(X, y, test_size=0.2, random_state=42)"
      ],
      "metadata": {
        "id": "ZM6YF06ITQSk"
      },
      "execution_count": 4,
      "outputs": []
    },
    {
      "cell_type": "markdown",
      "source": [
        "## Linear Regression"
      ],
      "metadata": {
        "id": "cQBvsH9fTv84"
      }
    },
    {
      "cell_type": "code",
      "source": [
        "from sklearn.linear_model import LinearRegression\n",
        "\n",
        "\n",
        "model = LinearRegression()\n",
        "\n",
        "cv_scores = cross_val_score(model, X_train, y_train, cv=5, scoring='neg_mean_squared_error')\n",
        "cv_scores2 = cross_val_score(model, X_train, y_train, cv=5, scoring='r2')\n",
        "print(-cv_scores.mean())\n",
        "print(cv_scores2.mean())"
      ],
      "metadata": {
        "colab": {
          "base_uri": "https://localhost:8080/"
        },
        "id": "t-lCEZY4WPCu",
        "outputId": "b259e414-48ac-41ff-aac7-a94500ef8039"
      },
      "execution_count": 5,
      "outputs": [
        {
          "output_type": "stream",
          "name": "stdout",
          "text": [
            "56.429810460510964\n",
            "0.9999515095730087\n"
          ]
        }
      ]
    },
    {
      "cell_type": "code",
      "source": [
        "model.fit(X_train, y_train)\n",
        "\n",
        "#Make Predictions and Evaluate\n",
        "train_prediction = model.predict(X_train)\n",
        "rmse_train = np.sqrt(mean_squared_error(train_prediction, y_train))\n",
        "print(f\"Train RMSE: {rmse_train}\")\n",
        "r2_score(train_prediction, y_train)"
      ],
      "metadata": {
        "colab": {
          "base_uri": "https://localhost:8080/"
        },
        "id": "XgrorYVIU0Ps",
        "outputId": "522ad344-8989-42fe-8b32-0003f8993210"
      },
      "execution_count": 60,
      "outputs": [
        {
          "output_type": "stream",
          "name": "stdout",
          "text": [
            "Train RMSE: 7.481171820420204\n"
          ]
        },
        {
          "output_type": "execute_result",
          "data": {
            "text/plain": [
              "0.9999517515505896"
            ]
          },
          "metadata": {},
          "execution_count": 60
        }
      ]
    },
    {
      "cell_type": "code",
      "source": [
        "#Make Predictions and Evaluate\n",
        "test_prediction = model.predict(X_test)\n",
        "rmse_test = np.sqrt(mean_squared_error(test_prediction, y_test))\n",
        "print(f\"Test RMSE: {rmse_test}\")\n",
        "r2_score(test_prediction, y_test)"
      ],
      "metadata": {
        "colab": {
          "base_uri": "https://localhost:8080/"
        },
        "id": "0bkmtxgvWCem",
        "outputId": "b96b5a11-8832-4747-924a-c3f14240820f"
      },
      "execution_count": 61,
      "outputs": [
        {
          "output_type": "stream",
          "name": "stdout",
          "text": [
            "Test RMSE: 8.200421975123794\n"
          ]
        },
        {
          "output_type": "execute_result",
          "data": {
            "text/plain": [
              "0.999943067334076"
            ]
          },
          "metadata": {},
          "execution_count": 61
        }
      ]
    },
    {
      "cell_type": "code",
      "source": [
        "lr_predict = model.predict(latest_data)\n",
        "lr_predict"
      ],
      "metadata": {
        "colab": {
          "base_uri": "https://localhost:8080/"
        },
        "id": "QuX0gtJ7YKmk",
        "outputId": "cccbf056-4b6b-4058-e83a-87250127822b"
      },
      "execution_count": 65,
      "outputs": [
        {
          "output_type": "execute_result",
          "data": {
            "text/plain": [
              "array([6012.19581703])"
            ]
          },
          "metadata": {},
          "execution_count": 65
        }
      ]
    },
    {
      "cell_type": "markdown",
      "source": [
        "## Ridge/Lasso Regularization"
      ],
      "metadata": {
        "id": "n79Wg0PBjhZE"
      }
    },
    {
      "cell_type": "code",
      "source": [
        "from sklearn.linear_model import Ridge, Lasso\n",
        "\n",
        "# Train a Ridge Regression model\n",
        "ridge_model = Ridge(alpha=1.0)\n",
        "ridge_model.fit(X_train, y_train)\n",
        "\n",
        "# Make predictions\n",
        "train_prediction = ridge_model.predict(X_train)\n",
        "y_pred = ridge_model.predict(X_test)\n",
        "\n",
        "# Calculate RMSE\n",
        "rmse_train = np.sqrt(mean_squared_error(train_prediction, y_train))\n",
        "print(f\"Train RMSE: {rmse_train}\")\n",
        "ridge_rmse = np.sqrt(mean_squared_error(y_test, y_pred))\n",
        "print(f\"Ridge Regression RMSE: {ridge_rmse}\")\n",
        "\n",
        "# Alternatively, try Lasso Regression\n",
        "lasso_model = Lasso(alpha=0.1)  # You can tune alpha here too\n",
        "lasso_model.fit(X_train, y_train)\n",
        "\n",
        "# Make predictions for Lasso\n",
        "train_prediction_lasso = lasso_model.predict(X_train)\n",
        "y_pred_lasso = lasso_model.predict(X_test)\n",
        "\n",
        "# Calculate RMSE for Lasso\n",
        "lasso_rmse_train = np.sqrt(mean_squared_error(train_prediction_lasso, y_train))\n",
        "print(f\"Train RMSE Lasso: {lasso_rmse_train}\")\n",
        "lasso_rmse = np.sqrt(mean_squared_error(y_test, y_pred_lasso))\n",
        "print(f\"Lasso Regression RMSE: {lasso_rmse}\")"
      ],
      "metadata": {
        "colab": {
          "base_uri": "https://localhost:8080/"
        },
        "id": "phIOR_X-i7F_",
        "outputId": "976ae14b-52ad-498e-f8ae-ee28338acaa7"
      },
      "execution_count": 50,
      "outputs": [
        {
          "output_type": "stream",
          "name": "stdout",
          "text": [
            "Train RMSE: 7.481171820431594\n",
            "Ridge Regression RMSE: 8.200421886895045\n",
            "Train RMSE Lasso: 12.491640177638834\n",
            "Lasso Regression RMSE: 12.48418432006406\n"
          ]
        }
      ]
    },
    {
      "cell_type": "code",
      "source": [
        "ridge_predict = ridge_model.predict(latest_data)\n",
        "print(ridge_predict)\n",
        "lasso_predict = lasso_model.predict(latest_data)\n",
        "print(lasso_predict)"
      ],
      "metadata": {
        "colab": {
          "base_uri": "https://localhost:8080/"
        },
        "id": "j3NdyWKyjsqd",
        "outputId": "3f82bfcb-cd70-4cf0-e204-62e62395037f"
      },
      "execution_count": 64,
      "outputs": [
        {
          "output_type": "stream",
          "name": "stdout",
          "text": [
            "[6012.19582768]\n",
            "[6011.06632819]\n"
          ]
        }
      ]
    },
    {
      "cell_type": "markdown",
      "source": [
        "##XGBoost"
      ],
      "metadata": {
        "id": "LJIjcP6bkWFu"
      }
    },
    {
      "cell_type": "code",
      "source": [
        "import xgboost as xgb\n",
        "from xgboost import XGBRegressor\n",
        "\n",
        "\n",
        "# Define hyperparameter grid for XGBoost\n",
        "xgb_param_dist = {\n",
        "    'n_estimators': [100, 200, 300],\n",
        "    'learning_rate': [0.01, 0.05, 0.1],\n",
        "    'max_depth': [3, 6, 10],\n",
        "    'subsample': [0.8, 1.0],\n",
        "    'colsample_bytree': [0.8, 1.0]\n",
        "}\n",
        "\n",
        "# Perform RandomizedSearchCV for XGBoost\n",
        "xgb_random_search = RandomizedSearchCV(XGBRegressor(objective='reg:squarederror', eval_metric='rmse'),\n",
        "                                       param_distributions=xgb_param_dist, n_iter=10, cv=5,\n",
        "                                       verbose=2, n_jobs=-1)\n",
        "\n",
        "# Fit the model with early stopping by using validation data\n",
        "xgb_random_search.fit(X_train, y_train,\n",
        "                      eval_set=[(X_test, y_test)], # Set up the evaluation set (test data)\n",
        "                      verbose=False)                 # Show progress\n",
        "\n",
        "# Get the best XGBoost model from RandomizedSearchCV\n",
        "best_xgb_model = xgb_random_search.best_estimator_\n",
        "\n",
        "# Make predictions and calculate RMSE for the best model\n",
        "train_prediction_xgb = best_xgb_model.predict(X_train)\n",
        "test_prediction_xgb = best_xgb_model.predict(X_test)\n",
        "\n",
        "# Calculate RMSE for the best model\n",
        "xgb_train_rmse = np.sqrt(mean_squared_error(y_train, train_prediction_xgb))\n",
        "print(f\"Train RMSE XGBoost: {xgb_train_rmse}\")\n",
        "best_xgb_rmse = np.sqrt(mean_squared_error(y_test, test_prediction_xgb))\n",
        "print(f\"Test RMSE XGBoost: {best_xgb_rmse}\")"
      ],
      "metadata": {
        "colab": {
          "base_uri": "https://localhost:8080/"
        },
        "id": "D593WIwDkVp_",
        "outputId": "9e0939ce-381d-45e5-82f7-26c3d65cd6ef"
      },
      "execution_count": 44,
      "outputs": [
        {
          "output_type": "stream",
          "name": "stdout",
          "text": [
            "Fitting 5 folds for each of 10 candidates, totalling 50 fits\n",
            "Train RMSE XGBoost: 12.662294147182667\n",
            "Test RMSE XGBoost: 14.88757792453262\n"
          ]
        }
      ]
    },
    {
      "cell_type": "code",
      "source": [
        "xgb_predict = best_xgb_model.predict(latest_data)\n",
        "xgb_predict"
      ],
      "metadata": {
        "colab": {
          "base_uri": "https://localhost:8080/"
        },
        "id": "i7pn2ykZkD-B",
        "outputId": "40e9d71f-c2c5-452d-aa41-e988fe15af35"
      },
      "execution_count": 70,
      "outputs": [
        {
          "output_type": "execute_result",
          "data": {
            "text/plain": [
              "array([5698.06], dtype=float32)"
            ]
          },
          "metadata": {},
          "execution_count": 70
        }
      ]
    },
    {
      "cell_type": "markdown",
      "source": [
        "## RandomForest Regressor"
      ],
      "metadata": {
        "id": "wDO9fjq0kwH7"
      }
    },
    {
      "cell_type": "code",
      "source": [
        "from sklearn.ensemble import RandomForestRegressor\n",
        "\n",
        "\n",
        "# # Hyperparameter tuning for RandomForest\n",
        "# param_dist = {\n",
        "#     'n_estimators': [100, 200, 300],\n",
        "#     'max_depth': [10, 20, 30, None],\n",
        "#     'min_samples_split': [2, 5, 10],\n",
        "#     'min_samples_leaf': [1, 2, 4]\n",
        "# }\n",
        "\n",
        "# rf_random_search = RandomizedSearchCV(RandomForestRegressor(random_state=42), param_distributions=param_dist,warm_start = True, n_iter=10, cv=5, verbose=2, n_jobs=-1)\n",
        "# rf_random_search.fit(X_train, y_train)\n",
        "\n",
        "# # Get the best estimator\n",
        "# best_rf_model = rf_random_search.best_estimator_\n",
        "\n",
        "# Make predictions\n",
        "train_prediction_rf = best_rf_model.predict(X_train)\n",
        "test_prediction_rf = best_rf_model.predict(X_test)\n",
        "\n",
        "#Calculate RMSE\n",
        "rf_train_rmse = np.sqrt(mean_squared_error(y_train, train_prediction_rf))\n",
        "print(f\"Train RMSE Random Forest: {rf_train_rmse}\")\n",
        "test_rf_rmse = np.sqrt(mean_squared_error(y_test, y_pred_best_rf))\n",
        "print(f\"Test RMSE Random Forest: {best_rf_rmse}\")"
      ],
      "metadata": {
        "colab": {
          "base_uri": "https://localhost:8080/"
        },
        "id": "eIJ-my8xkqrl",
        "outputId": "e7acc2ca-7bc1-48bc-f87c-b7243eecf3f6"
      },
      "execution_count": 46,
      "outputs": [
        {
          "output_type": "stream",
          "name": "stdout",
          "text": [
            "Train RMSE Random Forest: 3.2043208843157864\n",
            "Test RMSE Random Forest: 7.198437386736223\n"
          ]
        }
      ]
    },
    {
      "cell_type": "code",
      "source": [
        "rf_predict = best_rf_model.predict(latest_data)\n",
        "rf_predict"
      ],
      "metadata": {
        "colab": {
          "base_uri": "https://localhost:8080/"
        },
        "id": "n_c7suK0or5g",
        "outputId": "e2c9d194-cc2b-4eef-a038-31ffe5c5932b"
      },
      "execution_count": 48,
      "outputs": [
        {
          "output_type": "execute_result",
          "data": {
            "text/plain": [
              "array([5992.20144775])"
            ]
          },
          "metadata": {},
          "execution_count": 48
        }
      ]
    },
    {
      "cell_type": "markdown",
      "source": [
        "## Stacked Model (Random -> Linear)"
      ],
      "metadata": {
        "id": "VbyBZ5Pnqs24"
      }
    },
    {
      "cell_type": "code",
      "source": [
        "# Stack the Random Forest predictions with the original data features\n",
        "X_train_stack = np.column_stack((train_prediction_rf, X_train))\n",
        "X_test_stack = np.column_stack((test_prediction_rf, X_test))"
      ],
      "metadata": {
        "id": "VU2oBClPqsJs"
      },
      "execution_count": 54,
      "outputs": []
    },
    {
      "cell_type": "code",
      "source": [
        "stacked_model = LinearRegression().fit(X_train_stack, y_train)\n",
        "\n",
        "# Use the Linear Regression model to predict based on the stacked features\n",
        "train_pred_stack = stacked_model.predict(X_train_stack)\n",
        "test_pred_stack = stacked_model.predict(X_test_stack)\n",
        "\n",
        "rmse_train = np.sqrt(mean_squared_error(train_pred_stack, y_train))\n",
        "print(f\"Train RMSE Stacked Model: {rmse_train}\")\n",
        "r2_score(train_pred_stack, y_train)"
      ],
      "metadata": {
        "colab": {
          "base_uri": "https://localhost:8080/"
        },
        "id": "NCEkgzgxpWSK",
        "outputId": "00d333b9-bf95-4311-a78c-cae8e9d4e1cc"
      },
      "execution_count": 55,
      "outputs": [
        {
          "output_type": "stream",
          "name": "stdout",
          "text": [
            "Train RMSE Stacked Model: 2.9749353208056015\n"
          ]
        },
        {
          "output_type": "execute_result",
          "data": {
            "text/plain": [
              "0.9999923707557702"
            ]
          },
          "metadata": {},
          "execution_count": 55
        }
      ]
    },
    {
      "cell_type": "code",
      "source": [
        "rmse_test = np.sqrt(mean_squared_error(test_pred_stack, y_test))\n",
        "print(f\"Test RMSE Stacked Model: {rmse_test}\")\n",
        "r2_score(test_pred_stack, y_test)"
      ],
      "metadata": {
        "colab": {
          "base_uri": "https://localhost:8080/"
        },
        "id": "MDPlXbOmqhYx",
        "outputId": "6ed4ba6a-273e-4145-8b43-b3955a469cd0"
      },
      "execution_count": 56,
      "outputs": [
        {
          "output_type": "stream",
          "name": "stdout",
          "text": [
            "Test RMSE Stacked Model: 7.460890120999841\n"
          ]
        },
        {
          "output_type": "execute_result",
          "data": {
            "text/plain": [
              "0.9999529118065856"
            ]
          },
          "metadata": {},
          "execution_count": 56
        }
      ]
    },
    {
      "cell_type": "code",
      "source": [
        "latest_stack_data = np.column_stack((rf_predict, latest_data))\n",
        "stack_predict = stacked_model.predict(latest_stack_data)\n",
        "stack_predict"
      ],
      "metadata": {
        "colab": {
          "base_uri": "https://localhost:8080/"
        },
        "id": "iH6OlZEKtnUZ",
        "outputId": "972ff160-6e00-49c7-dcc9-82edcb3f80fd"
      },
      "execution_count": 58,
      "outputs": [
        {
          "output_type": "execute_result",
          "data": {
            "text/plain": [
              "array([5988.4585344])"
            ]
          },
          "metadata": {},
          "execution_count": 58
        }
      ]
    },
    {
      "cell_type": "markdown",
      "source": [
        "## Model Dump"
      ],
      "metadata": {
        "id": "TcT4GGjJw0hc"
      }
    },
    {
      "cell_type": "code",
      "source": [
        "import joblib\n",
        "\n",
        "# Save the Linear Regression model (assuming it's already trained)\n",
        "joblib.dump(model, 'linear_regression_model.pkl')\n",
        "\n",
        "# Save the Ridge Regression model\n",
        "joblib.dump(ridge_model, 'ridge_regression_model.pkl')\n",
        "\n",
        "# Save the Lasso Regression model\n",
        "joblib.dump(lasso_model, 'lasso_regression_model.pkl')\n",
        "\n",
        "# Save the XGBoost model\n",
        "joblib.dump(best_xgb_model, 'xgboost_model.pkl')\n",
        "\n",
        "# Save the trained Random Forest model\n",
        "joblib.dump(best_rf_model, 'random_forest_model.pkl')\n",
        "\n",
        "# Save the Stacked Model\n",
        "joblib.dump(stacked_model, 'stacked_model.pkl')\n",
        "\n",
        "print(\"Models saved successfully!\")"
      ],
      "metadata": {
        "colab": {
          "base_uri": "https://localhost:8080/"
        },
        "id": "xlci_oKvttWi",
        "outputId": "a0559348-25c6-416f-875c-1b0e077baa5b"
      },
      "execution_count": 82,
      "outputs": [
        {
          "output_type": "stream",
          "name": "stdout",
          "text": [
            "Models saved successfully!\n"
          ]
        }
      ]
    },
    {
      "cell_type": "markdown",
      "source": [
        "## Predictions to check"
      ],
      "metadata": {
        "id": "lLpdu-U50Q2a"
      }
    },
    {
      "cell_type": "code",
      "source": [
        "from datetime import datetime\n",
        "\n",
        "# Step 1: Use the current date (today's date)\n",
        "current_date = datetime.today().strftime('%Y-%m-%d')\n",
        "\n",
        "# Step 1: Store the predictions in a DataFrame\n",
        "predictions_df = pd.DataFrame({\n",
        "    'Date': [current_date],\n",
        "    'Linear_Regression_Prediction': lr_predict,\n",
        "    'Random_Forest_Prediction': rf_predict,\n",
        "    'Stacked_Model_Prediction': stack_predict,\n",
        "    'XGBoost_Prediction': xgb_predict,\n",
        "    'Ridge_Regression_Prediction': ridge_predict,\n",
        "    'Lasso_Regression_Prediction': lasso_predict,\n",
        "})\n",
        "\n",
        "predictions_df.set_index(\"Date\", inplace=True)\n",
        "predictions_df.to_csv(\"predictions_to_check.csv\")"
      ],
      "metadata": {
        "id": "ARS5L-7cys95"
      },
      "execution_count": 83,
      "outputs": []
    },
    {
      "cell_type": "markdown",
      "source": [
        "## Update Dependencies"
      ],
      "metadata": {
        "id": "ArIOEOwt3QZi"
      }
    },
    {
      "cell_type": "code",
      "source": [
        "# Get the installed packages\n",
        "installed_packages = !pip freeze\n",
        "\n",
        "# Append to the existing requirements.txt\n",
        "with open('requirements.txt', 'a') as f:\n",
        "    for package in installed_packages:\n",
        "        f.write(package + '\\n')\n",
        "\n",
        "print(\"requirements.txt updated!\")"
      ],
      "metadata": {
        "colab": {
          "base_uri": "https://localhost:8080/"
        },
        "id": "SuHLUqPg1F3P",
        "outputId": "8555161c-c3f5-4ff1-ea94-3f28903a60d0"
      },
      "execution_count": 85,
      "outputs": [
        {
          "output_type": "stream",
          "name": "stdout",
          "text": [
            "requirements.txt updated!\n"
          ]
        }
      ]
    }
  ]
}